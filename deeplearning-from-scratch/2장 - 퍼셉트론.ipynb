{
 "cells": [
  {
   "cell_type": "markdown",
   "id": "15aea196",
   "metadata": {},
   "source": [
    "<h2> 1. 퍼셉트론 구현하기 </h2>\n",
    "\n",
    "* 퍼셉트론 전반적인 개념 및 이해 : https://wikidocs.net/24958\n",
    "* p. 47 ~ 62"
   ]
  },
  {
   "cell_type": "code",
   "execution_count": 5,
   "id": "33c40a05",
   "metadata": {},
   "outputs": [],
   "source": [
    "def AND (x1, x2) :\n",
    "    w1, w2, theta = 0.5, 0.5, 0.7  #가중치 초기화 \n",
    "    tmp = x1 * w1 + x2 * w2\n",
    "    if tmp <= theta :\n",
    "        return 0\n",
    "    elif tmp > theta :\n",
    "        return 1"
   ]
  },
  {
   "cell_type": "code",
   "execution_count": 8,
   "id": "81b46dd1",
   "metadata": {},
   "outputs": [
    {
     "name": "stdout",
     "output_type": "stream",
     "text": [
      "0\n",
      "0\n",
      "0\n",
      "1\n"
     ]
    }
   ],
   "source": [
    "print (AND(0, 0))\n",
    "print (AND(1, 0))\n",
    "print (AND(0, 1))\n",
    "print (AND(1, 1))"
   ]
  },
  {
   "cell_type": "markdown",
   "id": "0b65bde7",
   "metadata": {},
   "source": [
    "<h2> 2. 가중치와 편향 </h2>"
   ]
  },
  {
   "cell_type": "code",
   "execution_count": 10,
   "id": "ff59bfaa",
   "metadata": {},
   "outputs": [
    {
     "data": {
      "text/plain": [
       "array([0. , 0.5])"
      ]
     },
     "execution_count": 10,
     "metadata": {},
     "output_type": "execute_result"
    }
   ],
   "source": [
    "import numpy as np\n",
    "x = np.array([0, 1])  # 입력\n",
    "w = np.array([0.5, 0.5])  # 가중치\n",
    "b = -0.7  # 편향\n",
    "w * x"
   ]
  },
  {
   "cell_type": "code",
   "execution_count": 11,
   "id": "21cea3ad",
   "metadata": {},
   "outputs": [
    {
     "data": {
      "text/plain": [
       "0.5"
      ]
     },
     "execution_count": 11,
     "metadata": {},
     "output_type": "execute_result"
    }
   ],
   "source": [
    "np.sum(x*w)"
   ]
  },
  {
   "cell_type": "code",
   "execution_count": 12,
   "id": "5a3a9cef",
   "metadata": {},
   "outputs": [
    {
     "data": {
      "text/plain": [
       "-0.19999999999999996"
      ]
     },
     "execution_count": 12,
     "metadata": {},
     "output_type": "execute_result"
    }
   ],
   "source": [
    "np.sum(x*w) + b"
   ]
  },
  {
   "cell_type": "code",
   "execution_count": 19,
   "id": "72206c0b",
   "metadata": {},
   "outputs": [],
   "source": [
    "def AND (x1, x2) :\n",
    "    x = np.array([x1, x2])\n",
    "    w = np.array([0.5, 0.5])\n",
    "    b = -0.7\n",
    "    tmp = np.sum(w*x) + b\n",
    "    if tmp <= 0 :\n",
    "        return 0\n",
    "    else :\n",
    "        return 1"
   ]
  },
  {
   "cell_type": "code",
   "execution_count": 24,
   "id": "60bee993",
   "metadata": {},
   "outputs": [],
   "source": [
    "def NAND (x1, x2) :\n",
    "    x = np.array([x1, x2])\n",
    "    w = np.array([-0.5, -0.5])\n",
    "    b = 0.7\n",
    "    tmp = np.sum(w*x) + b\n",
    "    if tmp <= 0 :\n",
    "        return 0\n",
    "    else :\n",
    "        return 1"
   ]
  },
  {
   "cell_type": "code",
   "execution_count": 25,
   "id": "4a4295d1",
   "metadata": {},
   "outputs": [],
   "source": [
    "def OR (x1, x2) :\n",
    "    x = np.array([x1, x2])\n",
    "    w = np.array([0.5, 0.5])\n",
    "    b = 0.2\n",
    "    tmp = np.sum(w*x) - b\n",
    "    if tmp <= 0 :\n",
    "        return 0\n",
    "    else :\n",
    "        return 1"
   ]
  },
  {
   "cell_type": "code",
   "execution_count": 26,
   "id": "c5567436",
   "metadata": {},
   "outputs": [],
   "source": [
    "def XOR (x1, x2) :\n",
    "    s1 = NAND(x1, x2)\n",
    "    s2 = OR(x1, x2)\n",
    "    y = AND(s1, s2)\n",
    "    return y"
   ]
  },
  {
   "cell_type": "code",
   "execution_count": 27,
   "id": "6bce0465",
   "metadata": {},
   "outputs": [
    {
     "name": "stdout",
     "output_type": "stream",
     "text": [
      "0\n",
      "1\n",
      "1\n",
      "0\n"
     ]
    }
   ],
   "source": [
    "print (XOR(0, 0))\n",
    "print (XOR(0, 1))\n",
    "print (XOR(1, 0))\n",
    "print (XOR(1, 1))"
   ]
  }
 ],
 "metadata": {
  "kernelspec": {
   "display_name": "Python 3 (ipykernel)",
   "language": "python",
   "name": "python3"
  },
  "language_info": {
   "codemirror_mode": {
    "name": "ipython",
    "version": 3
   },
   "file_extension": ".py",
   "mimetype": "text/x-python",
   "name": "python",
   "nbconvert_exporter": "python",
   "pygments_lexer": "ipython3",
   "version": "3.9.13"
  }
 },
 "nbformat": 4,
 "nbformat_minor": 5
}
